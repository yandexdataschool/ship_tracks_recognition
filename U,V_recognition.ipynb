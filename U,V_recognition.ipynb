{
 "cells": [
  {
   "cell_type": "code",
   "execution_count": 1,
   "metadata": {
    "collapsed": false
   },
   "outputs": [],
   "source": [
    "import numpy as np\n",
    "import pandas as pd\n",
    "import matplotlib.pyplot as plt\n",
    "from UV_views import *\n",
    "from Y_views import *\n",
    "%matplotlib inline"
   ]
  },
  {
   "cell_type": "markdown",
   "metadata": {},
   "source": [
    "# Reading data"
   ]
  },
  {
   "cell_type": "code",
   "execution_count": 2,
   "metadata": {
    "collapsed": false
   },
   "outputs": [
    {
     "data": {
      "text/html": [
       "<div>\n",
       "<table border=\"1\" class=\"dataframe\">\n",
       "  <thead>\n",
       "    <tr style=\"text-align: right;\">\n",
       "      <th></th>\n",
       "      <th>Index</th>\n",
       "      <th>X</th>\n",
       "      <th>Y</th>\n",
       "      <th>Z</th>\n",
       "      <th>TrackID</th>\n",
       "      <th>Time</th>\n",
       "      <th>StatNb</th>\n",
       "      <th>ViewNb</th>\n",
       "      <th>PlaneNb</th>\n",
       "      <th>LayerNb</th>\n",
       "      <th>StrawNb</th>\n",
       "      <th>dist2Wire</th>\n",
       "      <th>event</th>\n",
       "      <th>k</th>\n",
       "    </tr>\n",
       "  </thead>\n",
       "  <tbody>\n",
       "    <tr>\n",
       "      <th>0</th>\n",
       "      <td>0</td>\n",
       "      <td>8.883409</td>\n",
       "      <td>-61.202305</td>\n",
       "      <td>-1974.859985</td>\n",
       "      <td>3</td>\n",
       "      <td>232.044861</td>\n",
       "      <td>5</td>\n",
       "      <td>0</td>\n",
       "      <td>0</td>\n",
       "      <td>0</td>\n",
       "      <td>319</td>\n",
       "      <td>0.274822</td>\n",
       "      <td>0</td>\n",
       "      <td>0</td>\n",
       "    </tr>\n",
       "    <tr>\n",
       "      <th>1</th>\n",
       "      <td>1</td>\n",
       "      <td>8.858191</td>\n",
       "      <td>-61.225544</td>\n",
       "      <td>-1973.742188</td>\n",
       "      <td>3</td>\n",
       "      <td>232.074081</td>\n",
       "      <td>5</td>\n",
       "      <td>0</td>\n",
       "      <td>0</td>\n",
       "      <td>1</td>\n",
       "      <td>320</td>\n",
       "      <td>0.582455</td>\n",
       "      <td>0</td>\n",
       "      <td>1</td>\n",
       "    </tr>\n",
       "    <tr>\n",
       "      <th>2</th>\n",
       "      <td>2</td>\n",
       "      <td>8.824563</td>\n",
       "      <td>-61.256523</td>\n",
       "      <td>-1972.251953</td>\n",
       "      <td>3</td>\n",
       "      <td>232.118286</td>\n",
       "      <td>5</td>\n",
       "      <td>0</td>\n",
       "      <td>1</td>\n",
       "      <td>0</td>\n",
       "      <td>319</td>\n",
       "      <td>0.111252</td>\n",
       "      <td>0</td>\n",
       "      <td>2</td>\n",
       "    </tr>\n",
       "    <tr>\n",
       "      <th>3</th>\n",
       "      <td>3</td>\n",
       "      <td>8.632817</td>\n",
       "      <td>-61.432972</td>\n",
       "      <td>-1963.756592</td>\n",
       "      <td>3</td>\n",
       "      <td>232.406479</td>\n",
       "      <td>5</td>\n",
       "      <td>1</td>\n",
       "      <td>0</td>\n",
       "      <td>1</td>\n",
       "      <td>320</td>\n",
       "      <td>0.164412</td>\n",
       "      <td>0</td>\n",
       "      <td>3</td>\n",
       "    </tr>\n",
       "    <tr>\n",
       "      <th>4</th>\n",
       "      <td>4</td>\n",
       "      <td>8.573978</td>\n",
       "      <td>-61.487133</td>\n",
       "      <td>-1961.149292</td>\n",
       "      <td>3</td>\n",
       "      <td>232.488541</td>\n",
       "      <td>5</td>\n",
       "      <td>1</td>\n",
       "      <td>1</td>\n",
       "      <td>1</td>\n",
       "      <td>320</td>\n",
       "      <td>0.226827</td>\n",
       "      <td>0</td>\n",
       "      <td>4</td>\n",
       "    </tr>\n",
       "  </tbody>\n",
       "</table>\n",
       "</div>"
      ],
      "text/plain": [
       "   Index         X          Y            Z  TrackID        Time  StatNb  \\\n",
       "0      0  8.883409 -61.202305 -1974.859985        3  232.044861       5   \n",
       "1      1  8.858191 -61.225544 -1973.742188        3  232.074081       5   \n",
       "2      2  8.824563 -61.256523 -1972.251953        3  232.118286       5   \n",
       "3      3  8.632817 -61.432972 -1963.756592        3  232.406479       5   \n",
       "4      4  8.573978 -61.487133 -1961.149292        3  232.488541       5   \n",
       "\n",
       "   ViewNb  PlaneNb  LayerNb  StrawNb  dist2Wire  event  k  \n",
       "0       0        0        0      319   0.274822      0  0  \n",
       "1       0        0        1      320   0.582455      0  1  \n",
       "2       0        1        0      319   0.111252      0  2  \n",
       "3       1        0        1      320   0.164412      0  3  \n",
       "4       1        1        1      320   0.226827      0  4  "
      ]
     },
     "execution_count": 2,
     "metadata": {},
     "output_type": "execute_result"
    }
   ],
   "source": [
    "all_hits = pd.read_csv('Data/strawtubesPoint_decoded_hits.csv', delimiter=',')\n",
    "all_hits['Index'] = all_hits.index\n",
    "all_hits = all_hits[['Index', 'X', 'Y', 'Z', 'TrackID', 'Time', 'StatNb', 'ViewNb', 'PlaneNb', 'LayerNb', 'StrawNb', 'dist2Wire', 'event', 'k']]\n",
    "all_hits.head()"
   ]
  },
  {
   "cell_type": "code",
   "execution_count": 3,
   "metadata": {
    "collapsed": true
   },
   "outputs": [],
   "source": [
    "def show(index, ind, Xs):\n",
    "    X1 = []\n",
    "    X2 = []\n",
    "    Z = []\n",
    "    for i in new_linking_table[index]:\n",
    "        X1.append(all_hits['X'][i])\n",
    "        Z.append(all_hits['Z'][i])\n",
    "        X2.append(Xs[i])\n",
    "    plt.scatter(Z, X1, c = 'blue')\n",
    "    plt.scatter(Z, X2, c = 'yellow')\n",
    "    if (ind):\n",
    "        t = np.arange(3300, 3600, 299)\n",
    "    else:\n",
    "        t = np.arange(2550, 2850, 299)\n",
    "    plt.plot(t, new_tracks[index][0] * t + new_tracks[index][1], lw = 2, c = 'black')\n",
    "    print \"blue - real hit\"\n",
    "    print \"yellow - recognized hit\""
   ]
  },
  {
   "cell_type": "markdown",
   "metadata": {},
   "source": [
    "# 1 & 2 stations"
   ]
  },
  {
   "cell_type": "markdown",
   "metadata": {},
   "source": [
    "# test 1"
   ]
  },
  {
   "cell_type": "code",
   "execution_count": 67,
   "metadata": {
    "collapsed": false
   },
   "outputs": [
    {
     "data": {
      "text/plain": [
       "{2.0, 3.0}"
      ]
     },
     "execution_count": 67,
     "metadata": {},
     "output_type": "execute_result"
    }
   ],
   "source": [
    "event0 = all_hits[all_hits['event'] == 7]\n",
    "set(event0['TrackID'])"
   ]
  },
  {
   "cell_type": "code",
   "execution_count": 68,
   "metadata": {
    "collapsed": false
   },
   "outputs": [],
   "source": [
    "tracks, linking_table = loop_yz(event0, 7, 0.85, 0)"
   ]
  },
  {
   "cell_type": "code",
   "execution_count": 69,
   "metadata": {
    "collapsed": false
   },
   "outputs": [],
   "source": [
    "new_tracks, new_linking_table, Xs = loop_xz(event0, tracks, linking_table, 6, 15, 0)"
   ]
  },
  {
   "cell_type": "code",
   "execution_count": 70,
   "metadata": {
    "collapsed": false
   },
   "outputs": [
    {
     "data": {
      "text/plain": [
       "{10001: [2909, 2912, 2918, 2876, 2917, 2919, 2884, 2910, 2920],\n",
       " 20002: [2877, 2874, 2882, 2883, 2875, 2885]}"
      ]
     },
     "execution_count": 70,
     "metadata": {},
     "output_type": "execute_result"
    }
   ],
   "source": [
    "new_linking_table"
   ]
  },
  {
   "cell_type": "code",
   "execution_count": 71,
   "metadata": {
    "collapsed": false
   },
   "outputs": [
    {
     "name": "stdout",
     "output_type": "stream",
     "text": [
      "blue - real hit\n",
      "yellow - recognized hit\n",
      "blue - real hit\n",
      "yellow - recognized hit\n"
     ]
    },
    {
     "data": {
      "image/png": "[encoded data removed]",
      "text/plain": [
       "<matplotlib.figure.Figure at 0x7fb04eca8f90>"
      ]
     },
     "metadata": {},
     "output_type": "display_data"
    }
   ],
   "source": [
    "show(20002, 0, Xs)\n",
    "show(10001, 0, Xs)"
   ]
  },
  {
   "cell_type": "markdown",
   "metadata": {},
   "source": [
    "# test 2"
   ]
  },
  {
   "cell_type": "code",
   "execution_count": 59,
   "metadata": {
    "collapsed": false
   },
   "outputs": [
    {
     "data": {
      "text/plain": [
       "{-2.0, 3.0, 45.0, 56.0, 199.0, 200.0}"
      ]
     },
     "execution_count": 59,
     "metadata": {},
     "output_type": "execute_result"
    }
   ],
   "source": [
    "event0 = all_hits[all_hits['event'] == 5]\n",
    "set(event0['TrackID'])"
   ]
  },
  {
   "cell_type": "code",
   "execution_count": 60,
   "metadata": {
    "collapsed": false
   },
   "outputs": [],
   "source": [
    "tracks, linking_table = loop_yz(event0, 7, 0.85, 0)"
   ]
  },
  {
   "cell_type": "code",
   "execution_count": 64,
   "metadata": {
    "collapsed": false
   },
   "outputs": [],
   "source": [
    "new_tracks, new_linking_table, Xs = loop_xz(event0, tracks, linking_table, 6, 15, 0)"
   ]
  },
  {
   "cell_type": "code",
   "execution_count": 65,
   "metadata": {
    "collapsed": false
   },
   "outputs": [
    {
     "data": {
      "text/plain": [
       "{10001: [2807, 2820, 2809, 2816, 2818, 2817, 2819, 2810, 2808]}"
      ]
     },
     "execution_count": 65,
     "metadata": {},
     "output_type": "execute_result"
    }
   ],
   "source": [
    "new_linking_table"
   ]
  },
  {
   "cell_type": "code",
   "execution_count": 66,
   "metadata": {
    "collapsed": false
   },
   "outputs": [
    {
     "name": "stdout",
     "output_type": "stream",
     "text": [
      "blue - real hit\n",
      "yellow - recognized hit\n"
     ]
    },
    {
     "data": {
      "image/png": "[encoded data removed]",
      "text/plain": [
       "<matplotlib.figure.Figure at 0x7fb04ea41110>"
      ]
     },
     "metadata": {},
     "output_type": "display_data"
    }
   ],
   "source": [
    "show(10001, 0, Xs)"
   ]
  },
  {
   "cell_type": "markdown",
   "metadata": {},
   "source": [
    "# test 3"
   ]
  },
  {
   "cell_type": "code",
   "execution_count": 72,
   "metadata": {
    "collapsed": false
   },
   "outputs": [
    {
     "data": {
      "text/plain": [
       "{-2.0,\n",
       " 2.0,\n",
       " 6.0,\n",
       " 17.0,\n",
       " 32.0,\n",
       " 44.0,\n",
       " 49.0,\n",
       " 51.0,\n",
       " 60.0,\n",
       " 64.0,\n",
       " 73.0,\n",
       " 78.0,\n",
       " 79.0,\n",
       " 87.0,\n",
       " 102.0,\n",
       " 104.0,\n",
       " 108.0,\n",
       " 123.0,\n",
       " 136.0,\n",
       " 156.0}"
      ]
     },
     "execution_count": 72,
     "metadata": {},
     "output_type": "execute_result"
    }
   ],
   "source": [
    "event0 = all_hits[all_hits['event'] == 3]\n",
    "set(event0['TrackID'])"
   ]
  },
  {
   "cell_type": "code",
   "execution_count": 73,
   "metadata": {
    "collapsed": false
   },
   "outputs": [],
   "source": [
    "tracks, linking_table = loop_yz(event0, 7, 0.85, 0)"
   ]
  },
  {
   "cell_type": "code",
   "execution_count": 74,
   "metadata": {
    "collapsed": true
   },
   "outputs": [],
   "source": [
    "new_tracks, new_linking_table, Xs = loop_xz(event0, tracks, linking_table, 6, 15, 0)"
   ]
  },
  {
   "cell_type": "code",
   "execution_count": 75,
   "metadata": {
    "collapsed": false
   },
   "outputs": [
    {
     "data": {
      "text/plain": [
       "[40003,\n",
       " 60005,\n",
       " 100006,\n",
       " 120008,\n",
       " 160009,\n",
       " 180010,\n",
       " 10001,\n",
       " 30002,\n",
       " 50004,\n",
       " 110007,\n",
       " 210011]"
      ]
     },
     "execution_count": 75,
     "metadata": {},
     "output_type": "execute_result"
    }
   ],
   "source": [
    "new_linking_table.keys()"
   ]
  },
  {
   "cell_type": "code",
   "execution_count": 77,
   "metadata": {
    "collapsed": false
   },
   "outputs": [
    {
     "name": "stdout",
     "output_type": "stream",
     "text": [
      "blue - real hit\n",
      "yellow - recognized hit\n"
     ]
    },
    {
     "data": {
      "image/png": "[encoded data removed]",
      "text/plain": [
       "<matplotlib.figure.Figure at 0x7fb04eca84d0>"
      ]
     },
     "metadata": {},
     "output_type": "display_data"
    }
   ],
   "source": [
    "show(10001, 0, Xs)"
   ]
  },
  {
   "cell_type": "markdown",
   "metadata": {
    "collapsed": true
   },
   "source": [
    "# 3 & 4 stations"
   ]
  },
  {
   "cell_type": "markdown",
   "metadata": {},
   "source": [
    "# test 1"
   ]
  },
  {
   "cell_type": "code",
   "execution_count": 91,
   "metadata": {
    "collapsed": false
   },
   "outputs": [
    {
     "data": {
      "text/plain": [
       "{-2.0,\n",
       " 2.0,\n",
       " 6.0,\n",
       " 17.0,\n",
       " 32.0,\n",
       " 44.0,\n",
       " 49.0,\n",
       " 51.0,\n",
       " 60.0,\n",
       " 64.0,\n",
       " 73.0,\n",
       " 78.0,\n",
       " 79.0,\n",
       " 87.0,\n",
       " 102.0,\n",
       " 104.0,\n",
       " 108.0,\n",
       " 123.0,\n",
       " 136.0,\n",
       " 156.0}"
      ]
     },
     "execution_count": 91,
     "metadata": {},
     "output_type": "execute_result"
    }
   ],
   "source": [
    "event0 = all_hits[all_hits['event'] == 3]\n",
    "set(event0['TrackID'])"
   ]
  },
  {
   "cell_type": "code",
   "execution_count": 92,
   "metadata": {
    "collapsed": false
   },
   "outputs": [],
   "source": [
    "tracks, linking_table = loop_yz(event0, 7, 0.85, 1)"
   ]
  },
  {
   "cell_type": "code",
   "execution_count": 93,
   "metadata": {
    "collapsed": true
   },
   "outputs": [],
   "source": [
    "new_tracks, new_linking_table, Xs = loop_xz(event0, tracks, linking_table, 6, 15, 1)"
   ]
  },
  {
   "cell_type": "code",
   "execution_count": 94,
   "metadata": {
    "collapsed": false
   },
   "outputs": [
    {
     "data": {
      "text/plain": [
       "{10001: [1764, 1347, 1962, 1965, 1763, 1964, 1739, 1348, 1961, 1730]}"
      ]
     },
     "execution_count": 94,
     "metadata": {},
     "output_type": "execute_result"
    }
   ],
   "source": [
    "new_linking_table"
   ]
  },
  {
   "cell_type": "code",
   "execution_count": 95,
   "metadata": {
    "collapsed": false
   },
   "outputs": [
    {
     "name": "stdout",
     "output_type": "stream",
     "text": [
      "blue - real hit\n",
      "yellow - recognized hit\n"
     ]
    },
    {
     "data": {
      "image/png": "[encoded data removed]",
      "text/plain": [
       "<matplotlib.figure.Figure at 0x7fb04ebec490>"
      ]
     },
     "metadata": {},
     "output_type": "display_data"
    }
   ],
   "source": [
    "show(10001, 1, Xs)"
   ]
  },
  {
   "cell_type": "markdown",
   "metadata": {},
   "source": [
    "# test 2"
   ]
  },
  {
   "cell_type": "code",
   "execution_count": 27,
   "metadata": {
    "collapsed": false
   },
   "outputs": [
    {
     "data": {
      "text/plain": [
       "{3.0, 20.0}"
      ]
     },
     "execution_count": 27,
     "metadata": {},
     "output_type": "execute_result"
    }
   ],
   "source": [
    "event0 = all_hits[all_hits['event'] == 32]\n",
    "set(event0['TrackID'])"
   ]
  },
  {
   "cell_type": "code",
   "execution_count": 28,
   "metadata": {
    "collapsed": true
   },
   "outputs": [],
   "source": [
    "tracks, linking_table = loop_yz(event0, 7, 0.85, 1)"
   ]
  },
  {
   "cell_type": "code",
   "execution_count": 29,
   "metadata": {
    "collapsed": true
   },
   "outputs": [],
   "source": [
    "new_tracks, new_linking_table, Xs = loop_xz(event0, tracks, linking_table, 6, 15, 1)"
   ]
  },
  {
   "cell_type": "code",
   "execution_count": 30,
   "metadata": {
    "collapsed": false
   },
   "outputs": [
    {
     "data": {
      "text/plain": [
       "{10001: [3574, 3570, 3571, 3584, 3573, 3582, 3583, 3580, 3575, 3572],\n",
       " 20002: [3613, 3606, 3607, 3615, 3605, 3608, 3616]}"
      ]
     },
     "execution_count": 30,
     "metadata": {},
     "output_type": "execute_result"
    }
   ],
   "source": [
    "new_linking_table"
   ]
  },
  {
   "cell_type": "code",
   "execution_count": 32,
   "metadata": {
    "collapsed": false
   },
   "outputs": [
    {
     "name": "stdout",
     "output_type": "stream",
     "text": [
      "blue - real hit\n",
      "yellow - recognized hit\n"
     ]
    },
    {
     "data": {
      "image/png": "[encoded data removed]",
      "text/plain": [
       "<matplotlib.figure.Figure at 0x7fb04eb18fd0>"
      ]
     },
     "metadata": {},
     "output_type": "display_data"
    }
   ],
   "source": [
    "show(10001, 1, Xs)"
   ]
  },
  {
   "cell_type": "code",
   "execution_count": null,
   "metadata": {
    "collapsed": true
   },
   "outputs": [],
   "source": []
  }
 ],
 "metadata": {
  "kernelspec": {
   "display_name": "Python 2",
   "language": "python",
   "name": "python2"
  },
  "language_info": {
   "codemirror_mode": {
    "name": "ipython",
    "version": 2
   },
   "file_extension": ".py",
   "mimetype": "text/x-python",
   "name": "python",
   "nbconvert_exporter": "python",
   "pygments_lexer": "ipython2",
   "version": "2.7.10"
  }
 },
 "nbformat": 4,
 "nbformat_minor": 0
}
