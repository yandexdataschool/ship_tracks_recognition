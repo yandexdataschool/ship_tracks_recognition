{
 "cells": [
  {
   "cell_type": "code",
   "execution_count": 1,
   "metadata": {
    "collapsed": true
   },
   "outputs": [],
   "source": [
    "import os, sys\n",
    "sys.path.append('../functions')"
   ]
  },
  {
   "cell_type": "code",
   "execution_count": 2,
   "metadata": {
    "collapsed": true
   },
   "outputs": [],
   "source": [
    "% matplotlib inline\n",
    "import pandas\n",
    "import numpy\n",
    "import matplotlib.pyplot as plt"
   ]
  },
  {
   "cell_type": "markdown",
   "metadata": {},
   "source": [
    "#Reading data"
   ]
  },
  {
   "cell_type": "code",
   "execution_count": 3,
   "metadata": {
    "collapsed": false
   },
   "outputs": [
    {
     "data": {
      "text/html": [
       "<div>\n",
       "<table border=\"1\" class=\"dataframe\">\n",
       "  <thead>\n",
       "    <tr style=\"text-align: right;\">\n",
       "      <th></th>\n",
       "      <th>Index</th>\n",
       "      <th>X</th>\n",
       "      <th>Y</th>\n",
       "      <th>Z</th>\n",
       "      <th>TrackID</th>\n",
       "      <th>Time</th>\n",
       "      <th>StatNb</th>\n",
       "      <th>ViewNb</th>\n",
       "      <th>PlaneNb</th>\n",
       "      <th>LayerNb</th>\n",
       "      <th>StrawNb</th>\n",
       "      <th>dist2Wire</th>\n",
       "      <th>event</th>\n",
       "      <th>k</th>\n",
       "    </tr>\n",
       "  </thead>\n",
       "  <tbody>\n",
       "    <tr>\n",
       "      <th>0</th>\n",
       "      <td>0</td>\n",
       "      <td>8.883409</td>\n",
       "      <td>-61.202305</td>\n",
       "      <td>-1974.859985</td>\n",
       "      <td>3</td>\n",
       "      <td>232.044861</td>\n",
       "      <td>5</td>\n",
       "      <td>0</td>\n",
       "      <td>0</td>\n",
       "      <td>0</td>\n",
       "      <td>319</td>\n",
       "      <td>0.274822</td>\n",
       "      <td>0</td>\n",
       "      <td>0</td>\n",
       "    </tr>\n",
       "    <tr>\n",
       "      <th>1</th>\n",
       "      <td>1</td>\n",
       "      <td>8.858191</td>\n",
       "      <td>-61.225544</td>\n",
       "      <td>-1973.742188</td>\n",
       "      <td>3</td>\n",
       "      <td>232.074081</td>\n",
       "      <td>5</td>\n",
       "      <td>0</td>\n",
       "      <td>0</td>\n",
       "      <td>1</td>\n",
       "      <td>320</td>\n",
       "      <td>0.582455</td>\n",
       "      <td>0</td>\n",
       "      <td>1</td>\n",
       "    </tr>\n",
       "    <tr>\n",
       "      <th>2</th>\n",
       "      <td>2</td>\n",
       "      <td>8.824563</td>\n",
       "      <td>-61.256523</td>\n",
       "      <td>-1972.251953</td>\n",
       "      <td>3</td>\n",
       "      <td>232.118286</td>\n",
       "      <td>5</td>\n",
       "      <td>0</td>\n",
       "      <td>1</td>\n",
       "      <td>0</td>\n",
       "      <td>319</td>\n",
       "      <td>0.111252</td>\n",
       "      <td>0</td>\n",
       "      <td>2</td>\n",
       "    </tr>\n",
       "    <tr>\n",
       "      <th>3</th>\n",
       "      <td>3</td>\n",
       "      <td>8.632817</td>\n",
       "      <td>-61.432972</td>\n",
       "      <td>-1963.756592</td>\n",
       "      <td>3</td>\n",
       "      <td>232.406479</td>\n",
       "      <td>5</td>\n",
       "      <td>1</td>\n",
       "      <td>0</td>\n",
       "      <td>1</td>\n",
       "      <td>320</td>\n",
       "      <td>0.164412</td>\n",
       "      <td>0</td>\n",
       "      <td>3</td>\n",
       "    </tr>\n",
       "    <tr>\n",
       "      <th>4</th>\n",
       "      <td>4</td>\n",
       "      <td>8.573978</td>\n",
       "      <td>-61.487133</td>\n",
       "      <td>-1961.149292</td>\n",
       "      <td>3</td>\n",
       "      <td>232.488541</td>\n",
       "      <td>5</td>\n",
       "      <td>1</td>\n",
       "      <td>1</td>\n",
       "      <td>1</td>\n",
       "      <td>320</td>\n",
       "      <td>0.226827</td>\n",
       "      <td>0</td>\n",
       "      <td>4</td>\n",
       "    </tr>\n",
       "  </tbody>\n",
       "</table>\n",
       "</div>"
      ],
      "text/plain": [
       "   Index         X          Y            Z  TrackID        Time  StatNb  \\\n",
       "0      0  8.883409 -61.202305 -1974.859985        3  232.044861       5   \n",
       "1      1  8.858191 -61.225544 -1973.742188        3  232.074081       5   \n",
       "2      2  8.824563 -61.256523 -1972.251953        3  232.118286       5   \n",
       "3      3  8.632817 -61.432972 -1963.756592        3  232.406479       5   \n",
       "4      4  8.573978 -61.487133 -1961.149292        3  232.488541       5   \n",
       "\n",
       "   ViewNb  PlaneNb  LayerNb  StrawNb  dist2Wire  event  k  \n",
       "0       0        0        0      319   0.274822      0  0  \n",
       "1       0        0        1      320   0.582455      0  1  \n",
       "2       0        1        0      319   0.111252      0  2  \n",
       "3       1        0        1      320   0.164412      0  3  \n",
       "4       1        1        1      320   0.226827      0  4  "
      ]
     },
     "execution_count": 3,
     "metadata": {},
     "output_type": "execute_result"
    }
   ],
   "source": [
    "all_mctracks = pandas.read_csv('Data/MCTrack.csv', delimiter=',')\n",
    "all_velo_points = pandas.read_csv('Data/vetoPoint.csv', delimiter=',')\n",
    "all_hits = pandas.read_csv('Data/strawtubesPoint_decoded_hits.csv', delimiter=',')\n",
    "all_hits['Index'] = all_hits.index\n",
    "all_hits = all_hits[['Index', 'X', 'Y', 'Z', 'TrackID', 'Time', 'StatNb', 'ViewNb', 'PlaneNb', 'LayerNb', 'StrawNb', 'dist2Wire', 'event', 'k']]\n",
    "all_hits.head()"
   ]
  },
  {
   "cell_type": "markdown",
   "metadata": {},
   "source": [
    "# Get reconstructible events"
   ]
  },
  {
   "cell_type": "code",
   "execution_count": 4,
   "metadata": {
    "collapsed": false
   },
   "outputs": [],
   "source": [
    "from ReconstructibleTracks import get_reconstractible_tracks\n",
    "\n",
    "reconstructible_events = {}\n",
    "\n",
    "for event_id in range(2500, 5000):\n",
    "    \n",
    "    tracks = get_reconstractible_tracks(event_id, all_hits, all_mctracks, all_velo_points)\n",
    "    \n",
    "    if tracks != []:\n",
    "        reconstructible_events[event_id] = tracks"
   ]
  },
  {
   "cell_type": "code",
   "execution_count": 5,
   "metadata": {
    "collapsed": false
   },
   "outputs": [],
   "source": [
    "from MarginLinearRegression import *\n",
    "rmlr = RobustMarginLinearRegression(2)"
   ]
  },
  {
   "cell_type": "code",
   "execution_count": 6,
   "metadata": {
    "collapsed": false
   },
   "outputs": [],
   "source": [
    "from Y_views import *\n",
    "all_dists = []\n",
    "all_scores = []\n",
    "all_labels = []\n",
    "all_ks = []\n",
    "all_bs = []\n",
    "\n",
    "for event_id in reconstructible_events.keys():\n",
    "    \n",
    "    for track_id in [2.0, 3.0]:#reconstructible_events[event_id]:\n",
    "    \n",
    "        event = all_hits[all_hits['event'] == event_id]\n",
    "        event = modify_for_yz_analysis_1_2(event)\n",
    "        \n",
    "        track = event[event.TrackID == track_id]\n",
    "        false_track = event[event.TrackID != track_id]\n",
    "        \n",
    "        if len(track) == 0:\n",
    "            continue\n",
    "        \n",
    "        mixed_track = pandas.concat([track[track.StatNb == 1], false_track[false_track.StatNb == 2]], axis=0)\n",
    "        \n",
    "        if len(track.values) == 0:\n",
    "            print event_id, track_id\n",
    "            continue\n",
    "            \n",
    "        if len(false_track.values) == 0:\n",
    "            print event_id, track_id\n",
    "            continue\n",
    "            \n",
    "        if len(mixed_track.values) == 0:\n",
    "            print event_id, track_id\n",
    "            continue\n",
    "        \n",
    "        pos_labels = [1]*len(track)\n",
    "        neg_labels = [0]*len(false_track)\n",
    "        mixed_neg_labels = [0]*len(mixed_track)\n",
    "        \n",
    "        rmlr = RobustMarginLinearRegression(2)\n",
    "        score, lr = rmlr.fit(track)\n",
    "        \n",
    "        mixed_rmlr = RobustMarginLinearRegression(2)\n",
    "        mixed_score, mixed_lr = mixed_rmlr.fit(mixed_track)\n",
    "        \n",
    "        all_scores += [score]*(len(track) + len(false_track)) + [mixed_score]*(len(mixed_track))\n",
    "        \n",
    "        track_dists = rmlr.dist2track(track)[:, 0]\n",
    "        false_track_dists = rmlr.dist2track(false_track)[:, 0]\n",
    "        mixed_track_dists = mixed_rmlr.dist2track(mixed_track)[:, 0]\n",
    "        \n",
    "        all_dists += list(track_dists) + list(false_track_dists) + list(mixed_track_dists)\n",
    "        all_labels += pos_labels + neg_labels + mixed_neg_labels\n",
    "        \n",
    "        all_ks += [lr.coef_[0,0]]*(len(track) + len(false_track)) + [mixed_lr.coef_[0,0]]*(len(mixed_track))\n",
    "        all_bs += [lr.intercept_[0]]*(len(track) + len(false_track)) + [mixed_lr.intercept_[0]]*(len(mixed_track))"
   ]
  },
  {
   "cell_type": "code",
   "execution_count": 7,
   "metadata": {
    "collapsed": false
   },
   "outputs": [],
   "source": [
    "data = pandas.DataFrame()\n",
    "data['dist'] = all_dists\n",
    "data['score'] = all_scores\n",
    "data['score_div_dist'] = data['score'].values / data['dist'].values\n",
    "data['slope'] = all_ks\n",
    "data['intercept'] = all_bs\n",
    "data['label'] = all_labels"
   ]
  },
  {
   "cell_type": "code",
   "execution_count": 8,
   "metadata": {
    "collapsed": false
   },
   "outputs": [],
   "source": [
    "from sklearn.ensemble import RandomForestClassifier, GradientBoostingClassifier, RandomForestRegressor\n",
    "from sklearn import cross_validation\n",
    "from sklearn.preprocessing import StandardScaler\n",
    "from sklearn.svm import SVC\n",
    "from sklearn import metrics\n",
    "\n",
    "X_train, X_test, y_train, y_test = cross_validation.train_test_split(data[['dist', 'score', 'score_div_dist', 'slope', 'intercept']].values, \n",
    "                                                                     data[['label']].values, \n",
    "                                                                     test_size = 0.4)"
   ]
  },
  {
   "cell_type": "code",
   "execution_count": 59,
   "metadata": {
    "collapsed": false
   },
   "outputs": [
    {
     "name": "stderr",
     "output_type": "stream",
     "text": [
      "/Users/mikhail91/.virtualenvs/rep_6_5/lib/python2.7/site-packages/ipykernel/__main__.py:12: DataConversionWarning: A column-vector y was passed when a 1d array was expected. Please change the shape of y to (n_samples,), for example using ravel().\n"
     ]
    },
    {
     "data": {
      "text/plain": [
       "RandomForestClassifier(bootstrap=False, class_weight='balanced',\n",
       "            criterion='gini', max_depth=6, max_features=None,\n",
       "            max_leaf_nodes=None, min_samples_leaf=1, min_samples_split=2,\n",
       "            min_weight_fraction_leaf=0.0, n_estimators=1000, n_jobs=1,\n",
       "            oob_score=False, random_state=None, verbose=0,\n",
       "            warm_start=False)"
      ]
     },
     "execution_count": 59,
     "metadata": {},
     "output_type": "execute_result"
    }
   ],
   "source": [
    "clf = RandomForestClassifier(n_estimators=1000, \n",
    "                             max_features=None, \n",
    "                             max_depth=6, \n",
    "                             bootstrap=False, \n",
    "                             class_weight='balanced')\n",
    "# clf = GradientBoostingClassifier(n_estimators=1000, \n",
    "#                                  learning_rate=0.01, \n",
    "#                                  max_depth=6, \n",
    "#                                  max_features='auto', \n",
    "#                                  subsample=0.5, min_samples_split=10)\n",
    "\n",
    "clf.fit(X_train, y_train)"
   ]
  },
  {
   "cell_type": "code",
   "execution_count": 10,
   "metadata": {
    "collapsed": true
   },
   "outputs": [],
   "source": [
    "import cPickle as pickle\n",
    "\n",
    "clf_pickle = open('classifier.pkl', 'wb')\n",
    "pickle.dump(clf, clf_pickle)\n",
    "clf_pickle.close()"
   ]
  },
  {
   "cell_type": "code",
   "execution_count": 11,
   "metadata": {
    "collapsed": true
   },
   "outputs": [],
   "source": [
    "import cPickle as pickle\n",
    "\n",
    "clf_pickle2 = open('classifier.pkl', 'rb')\n",
    "clf = pickle.load(clf_pickle2)\n",
    "clf_pickle2.close()"
   ]
  },
  {
   "cell_type": "code",
   "execution_count": 45,
   "metadata": {
    "collapsed": false
   },
   "outputs": [
    {
     "data": {
      "text/plain": [
       "<matplotlib.legend.Legend at 0x11473bbd0>"
      ]
     },
     "execution_count": 45,
     "metadata": {},
     "output_type": "execute_result"
    },
    {
     "data": {
      "image/png": "[encoded data removed]",
      "text/plain": [
       "<matplotlib.figure.Figure at 0x1148a6fd0>"
      ]
     },
     "metadata": {},
     "output_type": "display_data"
    }
   ],
   "source": [
    "proba = clf.predict_proba(X_test)[:, 1]\n",
    "\n",
    "plt.hist(proba[y_test.reshape(-1)==1], color=\"blue\", label=\"Class 1\", normed=True, alpha=0.5)\n",
    "plt.hist(proba[y_test.reshape(-1)!=1], color=\"red\", label=\"Class 0\", normed=True, alpha=0.5)\n",
    "plt.ylim(0, 0.5)\n",
    "plt.legend(loc=\"upper left\")"
   ]
  },
  {
   "cell_type": "code",
   "execution_count": 13,
   "metadata": {
    "collapsed": false
   },
   "outputs": [
    {
     "data": {
      "text/plain": [
       "<matplotlib.legend.Legend at 0x11101dfd0>"
      ]
     },
     "execution_count": 13,
     "metadata": {},
     "output_type": "execute_result"
    },
    {
     "data": {
      "image/png": "[encoded data removed]",
      "text/plain": [
       "<matplotlib.figure.Figure at 0x11072dbd0>"
      ]
     },
     "metadata": {},
     "output_type": "display_data"
    }
   ],
   "source": [
    "y_score = clf.predict(X_test)\n",
    "fpr, tpr, thresholds = metrics.roc_curve(y_test.reshape(-1), y_score, pos_label=1)\n",
    "roc_auc = metrics.auc(fpr, tpr)\n",
    "plt.figure()\n",
    "plt.plot(fpr, tpr, label='ROC curve (area = %0.4f)' % roc_auc)\n",
    "plt.plot([0, 1], [0, 1], 'k--')\n",
    "plt.xlim([0.0, 1.0])\n",
    "plt.ylim([0.0, 1.05])\n",
    "plt.xlabel('False Positive Rate')\n",
    "plt.ylabel('True Positive Rate')\n",
    "plt.title('Receiver operating characteristic')\n",
    "plt.legend(loc=\"lower right\")"
   ]
  },
  {
   "cell_type": "code",
   "execution_count": null,
   "metadata": {
    "collapsed": true
   },
   "outputs": [],
   "source": []
  },
  {
   "cell_type": "markdown",
   "metadata": {
    "collapsed": true
   },
   "source": [
    "# Get reconstructible events"
   ]
  },
  {
   "cell_type": "code",
   "execution_count": 14,
   "metadata": {
    "collapsed": true
   },
   "outputs": [],
   "source": [
    "from ReconstructibleTracks import get_reconstractible_tracks\n",
    "\n",
    "reconstructible_events = {}\n",
    "\n",
    "for event_id in range(0, 2000):\n",
    "    \n",
    "    tracks = get_reconstractible_tracks(event_id, all_hits, all_mctracks, all_velo_points)\n",
    "    \n",
    "    if tracks != []:\n",
    "        reconstructible_events[event_id] = tracks"
   ]
  },
  {
   "cell_type": "code",
   "execution_count": 15,
   "metadata": {
    "collapsed": true
   },
   "outputs": [],
   "source": [
    "from MarginLinearRegression import *\n",
    "rmlr = RobustMarginLinearRegression(2)"
   ]
  },
  {
   "cell_type": "code",
   "execution_count": 16,
   "metadata": {
    "collapsed": true
   },
   "outputs": [],
   "source": [
    "from Y_views import *\n",
    "all_dists = []\n",
    "all_scores = []\n",
    "all_labels = []\n",
    "all_ks = []\n",
    "all_bs = []\n",
    "\n",
    "for event_id in reconstructible_events.keys():\n",
    "    \n",
    "    for track_id in [2.0, 3.0]:#reconstructible_events[event_id]:\n",
    "    \n",
    "        event = all_hits[all_hits['event'] == event_id]\n",
    "        event = modify_for_yz_analysis_1_2(event)\n",
    "        \n",
    "        track = event[event.TrackID == track_id]\n",
    "        false_track = event[event.TrackID != track_id]\n",
    "        \n",
    "        if len(track) == 0:\n",
    "            continue\n",
    "        \n",
    "        mixed_track = pandas.concat([track[track.StatNb == 1], false_track[false_track.StatNb == 2]], axis=0)\n",
    "        \n",
    "        if len(track.values) == 0:\n",
    "            print event_id, track_id\n",
    "            continue\n",
    "            \n",
    "        if len(false_track.values) == 0:\n",
    "            print event_id, track_id\n",
    "            continue\n",
    "            \n",
    "        if len(mixed_track.values) == 0:\n",
    "            print event_id, track_id\n",
    "            continue\n",
    "        \n",
    "        pos_labels = [1]*len(track)\n",
    "        neg_labels = [0]*len(false_track)\n",
    "        mixed_neg_labels = [0]*len(mixed_track)\n",
    "        \n",
    "        rmlr = RobustMarginLinearRegression(2)\n",
    "        score, lr = rmlr.fit(track)\n",
    "        \n",
    "        mixed_rmlr = RobustMarginLinearRegression(2)\n",
    "        mixed_score, mixed_lr = mixed_rmlr.fit(mixed_track)\n",
    "        \n",
    "        all_scores += [score]*(len(track) + len(false_track)) + [mixed_score]*(len(mixed_track))\n",
    "        \n",
    "        track_dists = rmlr.dist2track(track)[:, 0]\n",
    "        false_track_dists = rmlr.dist2track(false_track)[:, 0]\n",
    "        mixed_track_dists = mixed_rmlr.dist2track(mixed_track)[:, 0]\n",
    "        \n",
    "        all_dists += list(track_dists) + list(false_track_dists) + list(mixed_track_dists)\n",
    "        all_labels += pos_labels + neg_labels + mixed_neg_labels\n",
    "        \n",
    "        all_ks += [lr.coef_[0,0]]*(len(track) + len(false_track)) + [mixed_lr.coef_[0,0]]*(len(mixed_track))\n",
    "        all_bs += [lr.intercept_[0]]*(len(track) + len(false_track)) + [mixed_lr.intercept_[0]]*(len(mixed_track))"
   ]
  },
  {
   "cell_type": "code",
   "execution_count": 17,
   "metadata": {
    "collapsed": true
   },
   "outputs": [],
   "source": [
    "data_test = pandas.DataFrame()\n",
    "data_test['dist'] = all_dists\n",
    "data_test['score'] = all_scores\n",
    "data_test['score_div_dist'] = data_test['score'].values / data_test['dist'].values\n",
    "data_test['slope'] = all_ks\n",
    "data_test['intercept'] = all_bs\n",
    "data_test['label'] = all_labels"
   ]
  },
  {
   "cell_type": "code",
   "execution_count": 18,
   "metadata": {
    "collapsed": true
   },
   "outputs": [],
   "source": [
    "X_test_test = data_test[['dist', 'score', 'score_div_dist', 'slope', 'intercept']].values \n",
    "y_test_test = data_test[['label']].values"
   ]
  },
  {
   "cell_type": "code",
   "execution_count": 19,
   "metadata": {
    "collapsed": false
   },
   "outputs": [
    {
     "data": {
      "text/plain": [
       "<matplotlib.legend.Legend at 0x11020ded0>"
      ]
     },
     "execution_count": 19,
     "metadata": {},
     "output_type": "execute_result"
    },
    {
     "data": {
      "image/png": "[encoded data removed]",
      "text/plain": [
       "<matplotlib.figure.Figure at 0x110263550>"
      ]
     },
     "metadata": {},
     "output_type": "display_data"
    }
   ],
   "source": [
    "y_score = clf.predict(X_test_test)\n",
    "fpr, tpr, thresholds = metrics.roc_curve(y_test_test.reshape(-1), y_score, pos_label=1)\n",
    "roc_auc = metrics.auc(fpr, tpr)\n",
    "plt.figure()\n",
    "plt.plot(fpr, tpr, label='ROC curve (area = %0.4f)' % roc_auc)\n",
    "plt.plot([0, 1], [0, 1], 'k--')\n",
    "plt.xlim([0.0, 1.0])\n",
    "plt.ylim([0.0, 1.05])\n",
    "plt.xlabel('False Positive Rate')\n",
    "plt.ylabel('True Positive Rate')\n",
    "plt.title('Receiver operating characteristic')\n",
    "plt.legend(loc=\"lower right\")"
   ]
  },
  {
   "cell_type": "code",
   "execution_count": null,
   "metadata": {
    "collapsed": true
   },
   "outputs": [],
   "source": []
  },
  {
   "cell_type": "code",
   "execution_count": null,
   "metadata": {
    "collapsed": true
   },
   "outputs": [],
   "source": []
  }
 ],
 "metadata": {
  "kernelspec": {
   "display_name": "Python 2",
   "language": "python",
   "name": "python2"
  },
  "language_info": {
   "codemirror_mode": {
    "name": "ipython",
    "version": 2
   },
   "file_extension": ".py",
   "mimetype": "text/x-python",
   "name": "python",
   "nbconvert_exporter": "python",
   "pygments_lexer": "ipython2",
   "version": "2.7.10"
  }
 },
 "nbformat": 4,
 "nbformat_minor": 0
}
