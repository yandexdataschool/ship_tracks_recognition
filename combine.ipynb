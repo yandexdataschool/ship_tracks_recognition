{
 "cells": [
  {
   "cell_type": "code",
   "execution_count": 1,
   "metadata": {
    "collapsed": true
   },
   "outputs": [],
   "source": [
    "import numpy as np\n",
    "import pandas as pd\n",
    "import matplotlib.pyplot as plt\n",
    "from UV_views import *\n",
    "from Y_views import *\n",
    "from efficiency import *\n",
    "%matplotlib inline"
   ]
  },
  {
   "cell_type": "code",
   "execution_count": 2,
   "metadata": {
    "collapsed": false
   },
   "outputs": [
    {
     "data": {
      "text/html": [
       "<div>\n",
       "<table border=\"1\" class=\"dataframe\">\n",
       "  <thead>\n",
       "    <tr style=\"text-align: right;\">\n",
       "      <th></th>\n",
       "      <th>Index</th>\n",
       "      <th>X</th>\n",
       "      <th>Y</th>\n",
       "      <th>Z</th>\n",
       "      <th>TrackID</th>\n",
       "      <th>Time</th>\n",
       "      <th>StatNb</th>\n",
       "      <th>ViewNb</th>\n",
       "      <th>PlaneNb</th>\n",
       "      <th>LayerNb</th>\n",
       "      <th>StrawNb</th>\n",
       "      <th>dist2Wire</th>\n",
       "      <th>event</th>\n",
       "      <th>k</th>\n",
       "    </tr>\n",
       "  </thead>\n",
       "  <tbody>\n",
       "    <tr>\n",
       "      <th>0</th>\n",
       "      <td>0</td>\n",
       "      <td>8.883409</td>\n",
       "      <td>-61.202305</td>\n",
       "      <td>-1974.859985</td>\n",
       "      <td>3</td>\n",
       "      <td>232.044861</td>\n",
       "      <td>5</td>\n",
       "      <td>0</td>\n",
       "      <td>0</td>\n",
       "      <td>0</td>\n",
       "      <td>319</td>\n",
       "      <td>0.274822</td>\n",
       "      <td>0</td>\n",
       "      <td>0</td>\n",
       "    </tr>\n",
       "    <tr>\n",
       "      <th>1</th>\n",
       "      <td>1</td>\n",
       "      <td>8.858191</td>\n",
       "      <td>-61.225544</td>\n",
       "      <td>-1973.742188</td>\n",
       "      <td>3</td>\n",
       "      <td>232.074081</td>\n",
       "      <td>5</td>\n",
       "      <td>0</td>\n",
       "      <td>0</td>\n",
       "      <td>1</td>\n",
       "      <td>320</td>\n",
       "      <td>0.582455</td>\n",
       "      <td>0</td>\n",
       "      <td>1</td>\n",
       "    </tr>\n",
       "    <tr>\n",
       "      <th>2</th>\n",
       "      <td>2</td>\n",
       "      <td>8.824563</td>\n",
       "      <td>-61.256523</td>\n",
       "      <td>-1972.251953</td>\n",
       "      <td>3</td>\n",
       "      <td>232.118286</td>\n",
       "      <td>5</td>\n",
       "      <td>0</td>\n",
       "      <td>1</td>\n",
       "      <td>0</td>\n",
       "      <td>319</td>\n",
       "      <td>0.111252</td>\n",
       "      <td>0</td>\n",
       "      <td>2</td>\n",
       "    </tr>\n",
       "    <tr>\n",
       "      <th>3</th>\n",
       "      <td>3</td>\n",
       "      <td>8.632817</td>\n",
       "      <td>-61.432972</td>\n",
       "      <td>-1963.756592</td>\n",
       "      <td>3</td>\n",
       "      <td>232.406479</td>\n",
       "      <td>5</td>\n",
       "      <td>1</td>\n",
       "      <td>0</td>\n",
       "      <td>1</td>\n",
       "      <td>320</td>\n",
       "      <td>0.164412</td>\n",
       "      <td>0</td>\n",
       "      <td>3</td>\n",
       "    </tr>\n",
       "    <tr>\n",
       "      <th>4</th>\n",
       "      <td>4</td>\n",
       "      <td>8.573978</td>\n",
       "      <td>-61.487133</td>\n",
       "      <td>-1961.149292</td>\n",
       "      <td>3</td>\n",
       "      <td>232.488541</td>\n",
       "      <td>5</td>\n",
       "      <td>1</td>\n",
       "      <td>1</td>\n",
       "      <td>1</td>\n",
       "      <td>320</td>\n",
       "      <td>0.226827</td>\n",
       "      <td>0</td>\n",
       "      <td>4</td>\n",
       "    </tr>\n",
       "  </tbody>\n",
       "</table>\n",
       "</div>"
      ],
      "text/plain": [
       "   Index         X          Y            Z  TrackID        Time  StatNb  \\\n",
       "0      0  8.883409 -61.202305 -1974.859985        3  232.044861       5   \n",
       "1      1  8.858191 -61.225544 -1973.742188        3  232.074081       5   \n",
       "2      2  8.824563 -61.256523 -1972.251953        3  232.118286       5   \n",
       "3      3  8.632817 -61.432972 -1963.756592        3  232.406479       5   \n",
       "4      4  8.573978 -61.487133 -1961.149292        3  232.488541       5   \n",
       "\n",
       "   ViewNb  PlaneNb  LayerNb  StrawNb  dist2Wire  event  k  \n",
       "0       0        0        0      319   0.274822      0  0  \n",
       "1       0        0        1      320   0.582455      0  1  \n",
       "2       0        1        0      319   0.111252      0  2  \n",
       "3       1        0        1      320   0.164412      0  3  \n",
       "4       1        1        1      320   0.226827      0  4  "
      ]
     },
     "execution_count": 2,
     "metadata": {},
     "output_type": "execute_result"
    }
   ],
   "source": [
    "all_hits = pd.read_csv('Data/strawtubesPoint_decoded_hits.csv', delimiter=',')\n",
    "all_hits['Index'] = all_hits.index\n",
    "all_hits = all_hits[['Index', 'X', 'Y', 'Z', 'TrackID', 'Time', 'StatNb', 'ViewNb', 'PlaneNb', 'LayerNb', 'StrawNb', 'dist2Wire', 'event', 'k']]\n",
    "all_hits.head()"
   ]
  },
  {
   "cell_type": "code",
   "execution_count": 3,
   "metadata": {
    "collapsed": false
   },
   "outputs": [],
   "source": [
    "def combine(tracks_yz, tracks_xz, ind):\n",
    "    pairs = {}\n",
    "    s = tracks_xz.keys()\n",
    "    for i in s:\n",
    "        for j in s:\n",
    "            if (i != j) and (i not in pairs) and (j not in pairs):\n",
    "                z_x = (tracks_xz[i][1] - tracks_xz[j][1]) / (tracks_xz[j][0] - tracks_xz[i][0])\n",
    "                if (z_x > -2000 and z_x < 2598):\n",
    "                    if (i / 10000 == j / 10000):\n",
    "                        pairs[i] = j\n",
    "                        pairs[j] = i\n",
    "                    else:\n",
    "                        z_y = (tracks_yz[i / 10000][1] - tracks_yz[j / 10000][1]) / (tracks_yz[j / 10000][0] - tracks_yz[i / 10000][0])\n",
    "                        if (z_y > z_x + 100 and z_y < z_x - 100):\n",
    "                            pairs[i] = j\n",
    "                            pairs[j] = i\n",
    "    return pairs"
   ]
  },
  {
   "cell_type": "code",
   "execution_count": 4,
   "metadata": {
    "collapsed": false
   },
   "outputs": [],
   "source": [
    "def matching(tracks_yz_before, tracks_xz_before, tracks_yz_after, tracks_xz_after):\n",
    "    match = {}\n",
    "    for i in tracks_xz_before:\n",
    "        for j in tracks_xz_after:\n",
    "            if (i not in match.keys() and j not in match.values()):\n",
    "                x_before = tracks_xz_before[i][0] * 3000 + tracks_xz_before[i][1]\n",
    "                x_after = tracks_xz_after[j][0] * 3000 + tracks_xz_after[j][1]\n",
    "                if (x_before > x_after - 20 and x_before < x_after + 20):\n",
    "                    y_before = tracks_yz_before[i / 10000][0] * 3000 + tracks_yz_before[i / 10000][1]\n",
    "                    y_after = tracks_yz_after[j / 10000][0] * 3000 + tracks_yz_after[j / 10000][1]\n",
    "                    if (y_before < y_after + 2 and y_before > y_after - 2):\n",
    "                        match[i] = j\n",
    "    return match"
   ]
  },
  {
   "cell_type": "code",
   "execution_count": 6,
   "metadata": {
    "collapsed": false
   },
   "outputs": [],
   "source": [
    "for i in range(2000, 3000):\n",
    "    event = all_hits[all_hits['event'] == i]\n",
    "    tracks_yz_1_2, linking_table_yz_1_2 = loop_yz(event, 7, 0.85, 0)\n",
    "    if len(tracks_yz_1_2) < 2:\n",
    "        continue\n",
    "    tracks_xz_1_2, linking_table_xz_1_2, Xs = loop_xz(event, tracks_yz_1_2, linking_table_yz_1_2, 6, 15, 0)\n",
    "    if len(tracks_xz_1_2) < 2:\n",
    "        continue\n",
    "    tracks_yz_3_4, linking_table_yz_3_4 = loop_yz(event, 7, 0.85, 1)\n",
    "    if len(tracks_yz_3_4) < 2:\n",
    "        continue\n",
    "    tracks_xz_3_4, linking_table_xz_3_4, Xs = loop_xz(event, tracks_yz_3_4, linking_table_yz_3_4, 6, 15, 1)\n",
    "    if len(tracks_xz_3_4) < 2:\n",
    "        continue\n",
    "    pairs_1_2 = combine(tracks_yz_1_2, tracks_xz_1_2, 0)\n",
    "    if len(pairs_1_2) < 1:\n",
    "        continue\n",
    "    pairs_3_4 = combine(tracks_yz_3_4, tracks_xz_3_4, 0)\n",
    "    if len(pairs_3_4) < 1:\n",
    "        continue\n",
    "    match = matching(tracks_yz_1_2, tracks_xz_1_2, tracks_yz_3_4, tracks_xz_3_4)\n",
    "    if len(match) > 0:\n",
    "        print \"index:\" + str(i)"
   ]
  },
  {
   "cell_type": "code",
   "execution_count": null,
   "metadata": {
    "collapsed": true
   },
   "outputs": [],
   "source": []
  }
 ],
 "metadata": {
  "kernelspec": {
   "display_name": "Python 2",
   "language": "python",
   "name": "python2"
  },
  "language_info": {
   "codemirror_mode": {
    "name": "ipython",
    "version": 2
   },
   "file_extension": ".py",
   "mimetype": "text/x-python",
   "name": "python",
   "nbconvert_exporter": "python",
   "pygments_lexer": "ipython2",
   "version": "2.7.10"
  }
 },
 "nbformat": 4,
 "nbformat_minor": 0
}
